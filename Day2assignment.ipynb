{
  "nbformat": 4,
  "nbformat_minor": 0,
  "metadata": {
    "colab": {
      "name": "Day2assignment.ipynb",
      "provenance": [],
      "collapsed_sections": []
    },
    "kernelspec": {
      "name": "python3",
      "display_name": "Python 3"
    },
    "language_info": {
      "name": "python"
    }
  },
  "cells": [
    {
      "cell_type": "code",
      "metadata": {
        "id": "MipYD1GWXZSZ"
      },
      "source": [
        "# Assignment - 2\n",
        "\n",
        "# get random names of the people in the list using For loop, Maxmium participant variable and input() function\n",
        "# and then get your lottery run\n"
      ],
      "execution_count": 1,
      "outputs": []
    },
    {
      "cell_type": "code",
      "metadata": {
        "colab": {
          "base_uri": "https://localhost:8080/",
          "height": 35
        },
        "id": "OXx426SgXm6m",
        "outputId": "10186320-756c-433b-e4a1-b1b8ce3c59eb"
      },
      "source": [
        "maxTicketsAvalibale = 5\n",
        "participants = [ \"Sai Kumar\", \"khader\", \"Neha \", \"yaswanth\",  \"Aslam \"  ]\n",
        "import random\n",
        "n = random.randint(0,maxTicketsAvalibale-1)\n",
        "participants[n]\n"
      ],
      "execution_count": 2,
      "outputs": [
        {
          "output_type": "execute_result",
          "data": {
            "application/vnd.google.colaboratory.intrinsic+json": {
              "type": "string"
            },
            "text/plain": [
              "'Sai Kumar'"
            ]
          },
          "metadata": {
            "tags": []
          },
          "execution_count": 2
        }
      ]
    },
    {
      "cell_type": "code",
      "metadata": {
        "colab": {
          "base_uri": "https://localhost:8080/"
        },
        "id": "I1sB7hg7Y2Vd",
        "outputId": "5f6ceed3-f26d-424a-b1e3-56d1955a6e47"
      },
      "source": [
        "import random\n",
        "maxTicketsAvalibale = int(input(\"Enter the Maximum tickets Available\"))\n",
        "participants=[]\n",
        "\n",
        "for temp in range(maxTicketsAvalibale):\n",
        "  st= \"Enter the participant name -\" + str(temp + 1) + \"-\"\n",
        "  name = input(st)\n",
        "  participants.append(name)\n",
        "\n",
        "  print(\"all our participants-\",participants)\n",
        "\n",
        "  n = random.randint(0,maxTicketsAvalibale-1)\n",
        "print(\"winner of the lottery\",participants[n])\n",
        "\n"
      ],
      "execution_count": 11,
      "outputs": [
        {
          "output_type": "stream",
          "text": [
            "Enter the Maximum tickets Available5\n",
            "Enter the participant name -1-venni\n",
            "all our participants- ['venni']\n",
            "Enter the participant name -2-anu\n",
            "all our participants- ['venni', 'anu']\n",
            "Enter the participant name -3-adrika\n",
            "all our participants- ['venni', 'anu', 'adrika']\n",
            "Enter the participant name -4-iksha\n",
            "all our participants- ['venni', 'anu', 'adrika', 'iksha']\n",
            "Enter the participant name -5-geetha\n",
            "all our participants- ['venni', 'anu', 'adrika', 'iksha', 'geetha']\n",
            "winner of the lottery iksha\n"
          ],
          "name": "stdout"
        }
      ]
    },
    {
      "cell_type": "code",
      "metadata": {
        "id": "S7Le_p-_mwfN"
      },
      "source": [
        ""
      ],
      "execution_count": null,
      "outputs": []
    }
  ]
}